{
 "cells": [
  {
   "cell_type": "code",
   "execution_count": null,
   "metadata": {},
   "outputs": [],
   "source": [
    "import pandas as pd\n",
    "from sklearn.cluster import KMeans, AgglomerativeClustering"
   ]
  },
  {
   "cell_type": "code",
   "execution_count": null,
   "metadata": {},
   "outputs": [],
   "source": [
    "breast_cancer = pd.read_csv(\"breast_cancer.csv\")\n",
    "breast_cancer.head()"
   ]
  },
  {
   "cell_type": "code",
   "execution_count": null,
   "metadata": {},
   "outputs": [],
   "source": [
    "# encontrando instancias com valores faltantes\n",
    "breast_cancer[breast_cancer.apply(lambda row: any(row == \"?\"), axis=1)]"
   ]
  },
  {
   "cell_type": "code",
   "execution_count": null,
   "metadata": {},
   "outputs": [],
   "source": [
    "breast_cancer.replace(\"?\", pd.NA, inplace=True)\n",
    "# removendo instancias com valores faltantes\n",
    "breast_cancer = breast_cancer.dropna()\n",
    "breast_cancer.shape"
   ]
  },
  {
   "cell_type": "code",
   "execution_count": null,
   "metadata": {},
   "outputs": [],
   "source": [
    "X = breast_cancer.iloc[:, 1:]\n",
    "X.head()"
   ]
  },
  {
   "cell_type": "code",
   "execution_count": null,
   "metadata": {},
   "outputs": [],
   "source": [
    "y = breast_cancer.iloc[:, :1]\n",
    "y.value_counts()"
   ]
  },
  {
   "cell_type": "markdown",
   "metadata": {},
   "source": [
    "___"
   ]
  },
  {
   "cell_type": "code",
   "execution_count": null,
   "metadata": {},
   "outputs": [],
   "source": [
    "from sklearn.preprocessing import LabelBinarizer, OrdinalEncoder\n",
    "\n",
    "oe = OrdinalEncoder()\n",
    "X[\"age\"] = oe.fit_transform(X[[\"age\"]])\n",
    "# X[\"age\"] = X[\"age\"].map({\"10-19\": 0, \"20-29\": 1, \"30-39\": 2, \"40-49\": 3, \"50-59\": 4, \"60-69\": 5, \"70-79\": 6, \"80-89\": 7, \"90-99\": 8})\n",
    "\n",
    "X[\"menopause\"] = oe.fit_transform(X[[\"menopause\"]])\n",
    "# X[\"menopause\"] = X[\"menopause\"].map({\"lt40\": 0, \"ge40\": 1, \"premeno\": 2})\n",
    "\n",
    "X[\"tumor-size\"] = oe.fit_transform(X[[\"tumor-size\"]])\n",
    "# X[\"tumor-size\"] = X[\"tumor-size\"].map({\"0-4\": 0, \"5-9\": 1, \"10-14\": 2, \"15-19\": 3, \"20-24\": 4, \"25-29\": 5, \"30-34\": 6, \"35-39\": 7, \"40-44\": 8, \"45-49\": 9, \"50-54\": 10, \"55-59\": 11})\n",
    "\n",
    "X[\"inv-nodes\"] = oe.fit_transform(X[[\"inv-nodes\"]])\n",
    "# X[\"inv-nodes\"] = X[\"inv-nodes\"].map({\"0-2\": 0, \"3-5\": 1, \"6-8\": 2, \"9-11\": 3, \"12-14\": 4, \"15-17\": 5, \"18-20\": 6, \"21-23\": 7, \"24-26\": 8, \"27-29\": 9, \"30-32\": 10, \"33-35\": 11, \"36-39\": 12})\n",
    "\n",
    "X[\"breast-quad\"] = oe.fit_transform(X[[\"breast-quad\"]])\n",
    "# X[\"breast-quad\"] = X[\"breast-quad\"].map({\"left_up\": 0, \"left_low\": 1, \"right_up\": 2, \"right_low\": 3, \"central\": 4})\n",
    "\n",
    "\n",
    "lb = LabelBinarizer()\n",
    "X[\"node-caps\"] = lb.fit_transform(X[\"node-caps\"])\n",
    "# X[\"node-caps\"] = X[\"node-caps\"].map({\"no\": 0, \"yes\": 1})\n",
    "\n",
    "X[\"breast\"] = lb.fit_transform(X[\"breast\"])\n",
    "# X[\"breast\"] = X[\"breast\"].map({\"left\": 0, \"right\": 1})\n",
    "\n",
    "X[\"irradiat\"] = lb.fit_transform(X[\"irradiat\"])\n",
    "# X[\"irradiat\"] = X[\"irradiat\"].map({\"no\": 0, \"yes\": 1})\n",
    "\n",
    "\n",
    "X.head()"
   ]
  },
  {
   "cell_type": "markdown",
   "metadata": {},
   "source": [
    "___"
   ]
  },
  {
   "cell_type": "code",
   "execution_count": null,
   "metadata": {},
   "outputs": [],
   "source": [
    "# Alvo esperado\n",
    "y.value_counts()"
   ]
  },
  {
   "cell_type": "code",
   "execution_count": null,
   "metadata": {},
   "outputs": [],
   "source": [
    "k = 2\n",
    "kmeans = KMeans(n_clusters=k, init=\"random\").fit(X)\n",
    "# kmeans.labels_\n",
    "pd.DataFrame(kmeans.labels_, columns=[\"labels\"]).value_counts()"
   ]
  },
  {
   "cell_type": "code",
   "execution_count": null,
   "metadata": {},
   "outputs": [],
   "source": [
    "ahc = AgglomerativeClustering(n_clusters=k).fit(X)\n",
    "# ahc.labels_\n",
    "pd.DataFrame(ahc.labels_, columns=[\"labels\"]).value_counts()"
   ]
  }
 ],
 "metadata": {
  "kernelspec": {
   "display_name": "Python 3 (ipykernel)",
   "language": "python",
   "name": "python3"
  },
  "language_info": {
   "codemirror_mode": {
    "name": "ipython",
    "version": 3
   },
   "file_extension": ".py",
   "mimetype": "text/x-python",
   "name": "python",
   "nbconvert_exporter": "python",
   "pygments_lexer": "ipython3",
   "version": "3.11.9"
  }
 },
 "nbformat": 4,
 "nbformat_minor": 4
}
