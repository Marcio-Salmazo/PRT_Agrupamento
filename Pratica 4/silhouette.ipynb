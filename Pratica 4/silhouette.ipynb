{
 "cells": [
  {
   "cell_type": "code",
   "execution_count": null,
   "metadata": {},
   "outputs": [],
   "source": [
    "%pip install numpy\n",
    "%pip install pandas"
   ]
  },
  {
   "cell_type": "code",
   "execution_count": 8,
   "metadata": {},
   "outputs": [
    {
     "name": "stdout",
     "output_type": "stream",
     "text": [
      "The autoreload extension is already loaded. To reload it, use:\n",
      "  %reload_ext autoreload\n"
     ]
    }
   ],
   "source": [
    "import numpy as np\n",
    "import pandas as pd\n",
    "\n",
    "from ahc import AHC\n",
    "from kmeans import K_Means\n",
    "\n",
    "%load_ext autoreload\n",
    "%autoreload 2"
   ]
  },
  {
   "cell_type": "code",
   "execution_count": 9,
   "metadata": {},
   "outputs": [],
   "source": [
    "data = pd.read_csv(\"iris.csv\")\n",
    "\n",
    "X = data.iloc[:, :4]\n",
    "# y = data.iloc[:, 4]"
   ]
  },
  {
   "cell_type": "code",
   "execution_count": 10,
   "metadata": {},
   "outputs": [],
   "source": [
    "# k = int(input(\"Nro de clusters (k): \"))\n",
    "k = 3"
   ]
  },
  {
   "cell_type": "code",
   "execution_count": 11,
   "metadata": {},
   "outputs": [],
   "source": [
    "def my_silhouette_score(X: np.ndarray, labels: np.array):\n",
    "    # number of samples\n",
    "    n = X.shape[0]\n",
    "\n",
    "    # initialize silhouette scores\n",
    "    sil_scores = np.zeros(n)\n",
    "\n",
    "    # calculate pairwise distances manually\n",
    "    D = np.zeros((n, n))\n",
    "    for i in range(n):\n",
    "        for j in range(n):\n",
    "            D[i, j] = np.sqrt(np.sum((X[i] - X[j]) ** 2))\n",
    "\n",
    "    for i in range(n):\n",
    "        # Find the cluster of the current sample\n",
    "        own_cluster = labels[i]\n",
    "\n",
    "        # Mask for the own cluster\n",
    "        mask_own = labels == own_cluster\n",
    "\n",
    "        # a(i): the average distance to all other points in the same cluster\n",
    "        if np.sum(mask_own) > 1:\n",
    "            a_i = np.sum(D[i, mask_own]) / (np.sum(mask_own) - 1)\n",
    "        else:\n",
    "            a_i = 0\n",
    "\n",
    "        # b(i): the minimum average distance to points in any other cluster\n",
    "        b_i = np.inf\n",
    "        for label in np.unique(labels):\n",
    "            if label == own_cluster:\n",
    "                continue\n",
    "            mask_other = labels == label\n",
    "            b_i = min(b_i, np.mean(D[i, mask_other]))\n",
    "\n",
    "        # Compute the silhouette score for the current sample\n",
    "        sil_scores[i] = (b_i - a_i) / max(a_i, b_i)\n",
    "\n",
    "    return np.mean(sil_scores)"
   ]
  },
  {
   "cell_type": "code",
   "execution_count": 12,
   "metadata": {},
   "outputs": [
    {
     "name": "stdout",
     "output_type": "stream",
     "text": [
      "K-Means\n",
      "k:  3\n",
      "Centroid 0: [5.01864407 3.19152542 1.9440678  0.43898305]\n",
      "Centroid 1: [7.625  3.0875 6.475  2.075 ]\n",
      "Centroid 2: [6.25783133 2.95301205 4.78674699 1.65421687]\n",
      "Labels: \n",
      "[0 0 0 0 0 0 0 0 0 0 0 0 0 0 0 0 0 0 0 0 0 0 0 0 0 0 0 0 0 0 0 0 0 0 0 0 0\n",
      " 0 0 0 0 0 0 0 0 0 0 0 0 0 2 2 2 2 2 2 2 0 2 2 0 2 2 2 2 2 2 2 2 2 2 2 2 2\n",
      " 2 2 2 2 2 2 2 2 2 2 2 2 2 2 2 2 2 2 2 0 2 2 2 2 0 2 1 2 1 2 2 1 2 1 2 1 2\n",
      " 2 2 2 2 2 2 1 1 2 1 2 1 2 2 1 2 2 2 1 1 1 2 2 2 1 2 2 2 2 2 2 2 1 1 2 2 2\n",
      " 2 2]\n",
      "Silhouette Score:  0.5255628345473624\n"
     ]
    }
   ],
   "source": [
    "print(\"K-Means\")\n",
    "print(\"k: \", k)\n",
    "model = K_Means(k=k)\n",
    "labels, centroids = model.fit_predict(X.to_numpy())\n",
    "model.print_centroids()\n",
    "print(\"Labels: \")\n",
    "print(labels)\n",
    "print(\"Silhouette Score: \", my_silhouette_score(X.to_numpy(), labels))\n",
    "# from sklearn.metrics import silhouette_score\n",
    "# print(\"sklearn Silhouette Score:\", silhouette_score(X.to_numpy(), labels))"
   ]
  },
  {
   "cell_type": "code",
   "execution_count": 14,
   "metadata": {},
   "outputs": [
    {
     "name": "stdout",
     "output_type": "stream",
     "text": [
      "AHC\n"
     ]
    }
   ],
   "source": [
    "print(\"AHC\")\n",
    "ahc = AHC(X, save_output=False)\n",
    "ahc.run()\n",
    "# TODO: como calcular os centroids para aplicar silhueta simplificada"
   ]
  },
  {
   "cell_type": "code",
   "execution_count": null,
   "metadata": {},
   "outputs": [],
   "source": []
  }
 ],
 "metadata": {
  "kernelspec": {
   "display_name": ".venv",
   "language": "python",
   "name": "python3"
  },
  "language_info": {
   "codemirror_mode": {
    "name": "ipython",
    "version": 3
   },
   "file_extension": ".py",
   "mimetype": "text/x-python",
   "name": "python",
   "nbconvert_exporter": "python",
   "pygments_lexer": "ipython3",
   "version": "3.12.3"
  }
 },
 "nbformat": 4,
 "nbformat_minor": 2
}
