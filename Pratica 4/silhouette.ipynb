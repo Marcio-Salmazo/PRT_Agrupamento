{
 "cells": [
  {
   "cell_type": "code",
   "execution_count": null,
   "metadata": {},
   "outputs": [],
   "source": [
    "%pip install numpy\n",
    "%pip install pandas"
   ]
  },
  {
   "cell_type": "code",
   "execution_count": 1,
   "metadata": {},
   "outputs": [],
   "source": [
    "import numpy as np\n",
    "import pandas as pd\n",
    "\n",
    "from ahc import AHC\n",
    "from kmeans import K_Means\n",
    "\n",
    "%load_ext autoreload\n",
    "%autoreload 2"
   ]
  },
  {
   "cell_type": "code",
   "execution_count": 2,
   "metadata": {},
   "outputs": [],
   "source": [
    "data = pd.read_csv(\"iris.csv\")\n",
    "\n",
    "X = data.iloc[:, :4]\n",
    "# y = data.iloc[:, 4]"
   ]
  },
  {
   "cell_type": "code",
   "execution_count": 3,
   "metadata": {},
   "outputs": [],
   "source": [
    "# k = int(input(\"Nro de clusters (k): \"))\n",
    "k = 3"
   ]
  },
  {
   "cell_type": "code",
   "execution_count": 4,
   "metadata": {},
   "outputs": [],
   "source": [
    "# TODO: mover para silhouette.py e importar aqui\n",
    "def my_silhouette_score(X: np.ndarray, labels: np.array):\n",
    "    # number of samples\n",
    "    n = X.shape[0]\n",
    "\n",
    "    # initialize silhouette scores\n",
    "    sil_scores = np.zeros(n)\n",
    "\n",
    "    # calculate pairwise distances manually\n",
    "    D = np.zeros((n, n))\n",
    "    for i in range(n):\n",
    "        for j in range(n):\n",
    "            D[i, j] = np.sqrt(np.sum((X[i] - X[j]) ** 2))\n",
    "\n",
    "    for i in range(n):\n",
    "        # Find the cluster of the current sample\n",
    "        own_cluster = labels[i]\n",
    "\n",
    "        # Mask for the own cluster\n",
    "        mask_own = labels == own_cluster\n",
    "\n",
    "        # a(i): the average distance to all other points in the same cluster - intra cluster - compactness\n",
    "        if np.sum(mask_own) > 1:\n",
    "            a_i = np.sum(D[i, mask_own]) / (np.sum(mask_own) - 1)\n",
    "        else:\n",
    "            a_i = 0\n",
    "\n",
    "        # b(i): the minimum average distance to points in any other cluster - inter cluster - separation\n",
    "        b_i = np.inf\n",
    "        for label in np.unique(labels):\n",
    "            if label == own_cluster:\n",
    "                continue\n",
    "            mask_other = labels == label\n",
    "            b_i = min(b_i, np.mean(D[i, mask_other]))\n",
    "\n",
    "        # Compute the silhouette score for the current sample\n",
    "        sil_scores[i] = (b_i - a_i) / max(a_i, b_i)\n",
    "\n",
    "    return np.mean(sil_scores)"
   ]
  },
  {
   "cell_type": "code",
   "execution_count": 5,
   "metadata": {},
   "outputs": [],
   "source": [
    "def my_silhouette_score_2(X, labels):\n",
    "    n = X.shape[0]\n",
    "    unique_labels = np.unique(labels)\n",
    "    silhouette_vals = np.zeros(n)\n",
    "\n",
    "    dist_matrix = np.sqrt((X[:, np.newaxis] - X[np.newaxis, :]) ** 2).sum(axis=2)\n",
    "\n",
    "    for i in range(n):\n",
    "        same_cluster_mask = labels == labels[i]\n",
    "        a_i = np.mean(dist_matrix[i, same_cluster_mask])\n",
    "        b_i = np.inf\n",
    "\n",
    "\n",
    "        for label in unique_labels:\n",
    "            if label == labels[i]:\n",
    "                continue\n",
    "            other_cluster_mask = labels == label\n",
    "            b_i = min(b_i, np.mean(dist_matrix[i, other_cluster_mask]))\n",
    "\n",
    "        silhouette_vals[i] = (b_i - a_i) / max(a_i, b_i)\n",
    "    \n",
    "    silhouette_avg = np.mean(silhouette_vals)\n",
    "    return silhouette_avg"
   ]
  },
  {
   "cell_type": "code",
   "execution_count": 6,
   "metadata": {},
   "outputs": [
    {
     "name": "stdout",
     "output_type": "stream",
     "text": [
      "K-Means\n",
      "k:  3\n",
      "Centroid 0: [6.2        2.85714286 4.9        1.68367347]\n",
      "Centroid 1: [7.0962963  3.11481481 5.7        1.9962963 ]\n",
      "Centroid 2: [5.15       3.16216216 2.29459459 0.58648649]\n",
      "Labels: \n",
      "[2 2 2 2 2 2 2 2 2 2 2 2 2 2 2 2 2 2 2 2 2 2 2 2 2 2 2 2 2 2 2 2 2 2 2 2 2\n",
      " 2 2 2 2 2 2 2 2 2 2 2 2 2 0 0 0 0 0 0 0 2 0 0 2 0 0 0 0 0 0 0 0 0 0 0 0 0\n",
      " 0 0 0 0 0 2 0 0 0 0 0 0 0 0 0 0 0 0 0 2 0 0 0 0 2 0 1 0 1 0 1 1 0 1 1 1 0\n",
      " 0 1 0 0 0 1 1 1 0 1 0 1 0 1 1 0 0 1 1 1 1 1 0 0 1 1 0 0 1 1 1 0 1 1 1 0 0\n",
      " 0 0]\n",
      "Silhouette Score:  0.5237701851863256\n",
      "Silhouette Score 2:  0.5386966351633725\n",
      "SKLEARN Silhouette Score: 0.5237701851863256\n"
     ]
    }
   ],
   "source": [
    "print(\"K-Means\")\n",
    "print(\"k: \", k)\n",
    "model = K_Means(k=k)\n",
    "labels, centroids = model.fit_predict(X.to_numpy())\n",
    "model.print_centroids()\n",
    "print(\"Labels: \")\n",
    "print(labels)\n",
    "print(\"Silhouette Score: \", my_silhouette_score(X.to_numpy(), labels))\n",
    "print(\"Silhouette Score 2: \", my_silhouette_score_2(X.to_numpy(), labels))\n",
    "from sklearn.metrics import silhouette_score\n",
    "print(\"SKLEARN Silhouette Score:\", silhouette_score(X.to_numpy(), labels))"
   ]
  },
  {
   "cell_type": "code",
   "execution_count": null,
   "metadata": {},
   "outputs": [],
   "source": []
  },
  {
   "cell_type": "code",
   "execution_count": null,
   "metadata": {},
   "outputs": [],
   "source": [
    "print(\"AHC\")\n",
    "ahc = AHC(X, save_output=False)\n",
    "ahc.run()\n",
    "# TODO: como calcular os centroids para aplicar silhueta simplificada"
   ]
  },
  {
   "cell_type": "code",
   "execution_count": null,
   "metadata": {},
   "outputs": [],
   "source": []
  }
 ],
 "metadata": {
  "kernelspec": {
   "display_name": ".venv",
   "language": "python",
   "name": "python3"
  },
  "language_info": {
   "codemirror_mode": {
    "name": "ipython",
    "version": 3
   },
   "file_extension": ".py",
   "mimetype": "text/x-python",
   "name": "python",
   "nbconvert_exporter": "python",
   "pygments_lexer": "ipython3",
   "version": "3.12.3"
  }
 },
 "nbformat": 4,
 "nbformat_minor": 2
}
