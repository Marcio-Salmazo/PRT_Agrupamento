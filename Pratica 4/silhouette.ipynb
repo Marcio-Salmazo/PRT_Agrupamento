{
 "cells": [
  {
   "cell_type": "code",
   "execution_count": null,
   "metadata": {},
   "outputs": [],
   "source": [
    "%pip install numpy\n",
    "%pip install pandas\n",
    "%load_ext autoreload\n",
    "%autoreload 2"
   ]
  },
  {
   "cell_type": "code",
   "execution_count": null,
   "metadata": {},
   "outputs": [],
   "source": [
    "import numpy as np\n",
    "import pandas as pd\n",
    "\n",
    "from ahc import AHC\n",
    "from kmeans import K_Means\n",
    "\n",
    "np.random.seed(5)"
   ]
  },
  {
   "cell_type": "markdown",
   "metadata": {},
   "source": [
    "Carregando dataset Iris: https://archive.ics.uci.edu/dataset/53/iris"
   ]
  },
  {
   "cell_type": "code",
   "execution_count": null,
   "metadata": {},
   "outputs": [],
   "source": [
    "# dataset_path = input(\"Dataset path: \")\n",
    "dataset_path = \"./iris.csv\"\n",
    "data = pd.read_csv(dataset_path)\n",
    "data.head()"
   ]
  },
  {
   "cell_type": "markdown",
   "metadata": {},
   "source": [
    "Ignorando coluna `class`"
   ]
  },
  {
   "cell_type": "code",
   "execution_count": null,
   "metadata": {},
   "outputs": [],
   "source": [
    "X = data.iloc[:, :4]\n",
    "X.head()"
   ]
  },
  {
   "cell_type": "markdown",
   "metadata": {},
   "source": [
    "Numero de clusters"
   ]
  },
  {
   "cell_type": "code",
   "execution_count": null,
   "metadata": {},
   "outputs": [],
   "source": [
    "# k = int(input(\"Nro de clusters (k): \"))\n",
    "k = 3"
   ]
  },
  {
   "cell_type": "markdown",
   "metadata": {},
   "source": [
    "Silhueta Simplificada\n",
    "\n",
    "```\n",
    "Para cada objeto i:\n",
    "    Encontre o cluster ao qual i pertence\n",
    "    Calcule a distância média intra-cluster (a_i):\n",
    "        - Calcule a média das distâncias de i para todos os outros objetos no mesmo cluster\n",
    "    Calcule a distância média mais próxima inter-cluster (b_i):\n",
    "        - Para cada cluster diferente do cluster de i:\n",
    "            - Calcule a média das distâncias de i para todos os objetos no cluster\n",
    "            - Mantenha o mínimo dessas distâncias\n",
    "    Calcule o valor da silhueta simplificada para o objeto i:\n",
    "        - (b_i - a_i) / max(a_i, b_i) se o tamanho do cluster de i for maior que 1, caso contrário, 0\n",
    "```"
   ]
  },
  {
   "cell_type": "code",
   "execution_count": null,
   "metadata": {},
   "outputs": [],
   "source": [
    "def simplified_silhouette(X, labels):\n",
    "    n = X.shape[0]\n",
    "    sil_scores = np.zeros(n)\n",
    "\n",
    "    for i in range(n):\n",
    "        # encontra o cluster ao qual i pertence\n",
    "        own_cluster = labels[i]\n",
    "\n",
    "        # a_i: distancia media intra-cluster,\n",
    "        # media das distancias de i para todos os outros objs no mesmo cluster\n",
    "        a_i = np.mean(np.linalg.norm(X[i] - X[labels == own_cluster], axis=1))\n",
    "\n",
    "        # b_i: distancia media mais proxima inter-cluster,\n",
    "        b_i = np.inf\n",
    "        for label in np.unique(labels):\n",
    "            if label == own_cluster:\n",
    "                continue\n",
    "            # para cada cluster diferente de i\n",
    "            # 1. calcula a media das distancias de i para todos objetos no cluster\n",
    "            # 2. calcula o minimo dessas distancias\n",
    "            b_i = min(b_i, np.mean(np.linalg.norm(X[i] - X[labels == label], axis=1)))\n",
    "\n",
    "        # calcula o valor da silhueta simplificada para i,\n",
    "        # se o tamanho do cluster de i for maior que 1, caso contrario 0\n",
    "        sil_scores[i] = (\n",
    "            (b_i - a_i) / max(a_i, b_i) if np.sum(labels == own_cluster) > 1 else 0\n",
    "        )\n",
    "\n",
    "    return np.mean(sil_scores)"
   ]
  },
  {
   "cell_type": "markdown",
   "metadata": {},
   "source": [
    "Validacao dos algoritmos"
   ]
  },
  {
   "cell_type": "code",
   "execution_count": null,
   "metadata": {},
   "outputs": [],
   "source": [
    "model = K_Means(k=k)\n",
    "labels, centroids = model.fit_predict(X.to_numpy())\n",
    "\n",
    "print(\"=== K-Means == \")\n",
    "print(\"k\\t\\t\", k)\n",
    "print(\"dataset\\t\", dataset_path)\n",
    "print(\"Silhouette Score: \", simplified_silhouette(X.to_numpy(), labels))"
   ]
  },
  {
   "cell_type": "code",
   "execution_count": null,
   "metadata": {},
   "outputs": [],
   "source": [
    "ahc = AHC(X, k=k)\n",
    "ahc.run()\n",
    "ahc_sil = simplified_silhouette(X.to_numpy(), ahc.labels)\n",
    "\n",
    "print(\"=== AHC == \")\n",
    "print(\"k\\t\\t\", k)\n",
    "print(\"dataset\\t\", dataset_path)\n",
    "print(\"Silhouette Score: \", simplified_silhouette(X.to_numpy(), ahc.labels))"
   ]
  }
 ],
 "metadata": {
  "kernelspec": {
   "display_name": ".venv",
   "language": "python",
   "name": "python3"
  },
  "language_info": {
   "codemirror_mode": {
    "name": "ipython",
    "version": 3
   },
   "file_extension": ".py",
   "mimetype": "text/x-python",
   "name": "python",
   "nbconvert_exporter": "python",
   "pygments_lexer": "ipython3",
   "version": "3.12.3"
  }
 },
 "nbformat": 4,
 "nbformat_minor": 2
}
