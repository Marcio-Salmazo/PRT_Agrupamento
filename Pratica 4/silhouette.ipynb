{
 "cells": [
  {
   "cell_type": "code",
   "execution_count": null,
   "metadata": {},
   "outputs": [],
   "source": [
    "%pip install numpy\n",
    "%pip install pandas\n",
    "%load_ext autoreload\n",
    "%autoreload 2"
   ]
  },
  {
   "cell_type": "code",
   "execution_count": 1,
   "metadata": {},
   "outputs": [],
   "source": [
    "import numpy as np\n",
    "import pandas as pd\n",
    "\n",
    "from ahc import AHC\n",
    "from kmeans import K_Means\n",
    "\n",
    "np.random.seed(5)"
   ]
  },
  {
   "cell_type": "markdown",
   "metadata": {},
   "source": [
    "Carregando dataset Iris: https://archive.ics.uci.edu/dataset/53/iris"
   ]
  },
  {
   "cell_type": "code",
   "execution_count": 2,
   "metadata": {},
   "outputs": [
    {
     "data": {
      "text/html": [
       "<div>\n",
       "<style scoped>\n",
       "    .dataframe tbody tr th:only-of-type {\n",
       "        vertical-align: middle;\n",
       "    }\n",
       "\n",
       "    .dataframe tbody tr th {\n",
       "        vertical-align: top;\n",
       "    }\n",
       "\n",
       "    .dataframe thead th {\n",
       "        text-align: right;\n",
       "    }\n",
       "</style>\n",
       "<table border=\"1\" class=\"dataframe\">\n",
       "  <thead>\n",
       "    <tr style=\"text-align: right;\">\n",
       "      <th></th>\n",
       "      <th>sepal_length</th>\n",
       "      <th>sepal_width</th>\n",
       "      <th>petal_length</th>\n",
       "      <th>petal_width</th>\n",
       "      <th>class</th>\n",
       "    </tr>\n",
       "  </thead>\n",
       "  <tbody>\n",
       "    <tr>\n",
       "      <th>0</th>\n",
       "      <td>5.1</td>\n",
       "      <td>3.5</td>\n",
       "      <td>1.4</td>\n",
       "      <td>0.2</td>\n",
       "      <td>Iris-setosa</td>\n",
       "    </tr>\n",
       "    <tr>\n",
       "      <th>1</th>\n",
       "      <td>4.9</td>\n",
       "      <td>3.0</td>\n",
       "      <td>1.4</td>\n",
       "      <td>0.2</td>\n",
       "      <td>Iris-setosa</td>\n",
       "    </tr>\n",
       "    <tr>\n",
       "      <th>2</th>\n",
       "      <td>4.7</td>\n",
       "      <td>3.2</td>\n",
       "      <td>1.3</td>\n",
       "      <td>0.2</td>\n",
       "      <td>Iris-setosa</td>\n",
       "    </tr>\n",
       "    <tr>\n",
       "      <th>3</th>\n",
       "      <td>4.6</td>\n",
       "      <td>3.1</td>\n",
       "      <td>1.5</td>\n",
       "      <td>0.2</td>\n",
       "      <td>Iris-setosa</td>\n",
       "    </tr>\n",
       "    <tr>\n",
       "      <th>4</th>\n",
       "      <td>5.0</td>\n",
       "      <td>3.6</td>\n",
       "      <td>1.4</td>\n",
       "      <td>0.2</td>\n",
       "      <td>Iris-setosa</td>\n",
       "    </tr>\n",
       "  </tbody>\n",
       "</table>\n",
       "</div>"
      ],
      "text/plain": [
       "   sepal_length  sepal_width  petal_length  petal_width        class\n",
       "0           5.1          3.5           1.4          0.2  Iris-setosa\n",
       "1           4.9          3.0           1.4          0.2  Iris-setosa\n",
       "2           4.7          3.2           1.3          0.2  Iris-setosa\n",
       "3           4.6          3.1           1.5          0.2  Iris-setosa\n",
       "4           5.0          3.6           1.4          0.2  Iris-setosa"
      ]
     },
     "execution_count": 2,
     "metadata": {},
     "output_type": "execute_result"
    }
   ],
   "source": [
    "# dataset_path = input(\"Dataset path: \")\n",
    "dataset_path = \"./iris.csv\"\n",
    "data = pd.read_csv(dataset_path)\n",
    "data.head()"
   ]
  },
  {
   "cell_type": "markdown",
   "metadata": {},
   "source": [
    "Ignorando coluna `class`"
   ]
  },
  {
   "cell_type": "code",
   "execution_count": 3,
   "metadata": {},
   "outputs": [
    {
     "data": {
      "text/html": [
       "<div>\n",
       "<style scoped>\n",
       "    .dataframe tbody tr th:only-of-type {\n",
       "        vertical-align: middle;\n",
       "    }\n",
       "\n",
       "    .dataframe tbody tr th {\n",
       "        vertical-align: top;\n",
       "    }\n",
       "\n",
       "    .dataframe thead th {\n",
       "        text-align: right;\n",
       "    }\n",
       "</style>\n",
       "<table border=\"1\" class=\"dataframe\">\n",
       "  <thead>\n",
       "    <tr style=\"text-align: right;\">\n",
       "      <th></th>\n",
       "      <th>sepal_length</th>\n",
       "      <th>sepal_width</th>\n",
       "      <th>petal_length</th>\n",
       "      <th>petal_width</th>\n",
       "    </tr>\n",
       "  </thead>\n",
       "  <tbody>\n",
       "    <tr>\n",
       "      <th>0</th>\n",
       "      <td>5.1</td>\n",
       "      <td>3.5</td>\n",
       "      <td>1.4</td>\n",
       "      <td>0.2</td>\n",
       "    </tr>\n",
       "    <tr>\n",
       "      <th>1</th>\n",
       "      <td>4.9</td>\n",
       "      <td>3.0</td>\n",
       "      <td>1.4</td>\n",
       "      <td>0.2</td>\n",
       "    </tr>\n",
       "    <tr>\n",
       "      <th>2</th>\n",
       "      <td>4.7</td>\n",
       "      <td>3.2</td>\n",
       "      <td>1.3</td>\n",
       "      <td>0.2</td>\n",
       "    </tr>\n",
       "    <tr>\n",
       "      <th>3</th>\n",
       "      <td>4.6</td>\n",
       "      <td>3.1</td>\n",
       "      <td>1.5</td>\n",
       "      <td>0.2</td>\n",
       "    </tr>\n",
       "    <tr>\n",
       "      <th>4</th>\n",
       "      <td>5.0</td>\n",
       "      <td>3.6</td>\n",
       "      <td>1.4</td>\n",
       "      <td>0.2</td>\n",
       "    </tr>\n",
       "  </tbody>\n",
       "</table>\n",
       "</div>"
      ],
      "text/plain": [
       "   sepal_length  sepal_width  petal_length  petal_width\n",
       "0           5.1          3.5           1.4          0.2\n",
       "1           4.9          3.0           1.4          0.2\n",
       "2           4.7          3.2           1.3          0.2\n",
       "3           4.6          3.1           1.5          0.2\n",
       "4           5.0          3.6           1.4          0.2"
      ]
     },
     "execution_count": 3,
     "metadata": {},
     "output_type": "execute_result"
    }
   ],
   "source": [
    "X = data.iloc[:, :4]\n",
    "X.head()"
   ]
  },
  {
   "cell_type": "markdown",
   "metadata": {},
   "source": [
    "Número de clusters"
   ]
  },
  {
   "cell_type": "code",
   "execution_count": 4,
   "metadata": {},
   "outputs": [],
   "source": [
    "# k = int(input(\"Nro de clusters (k): \"))\n",
    "k = 3"
   ]
  },
  {
   "cell_type": "markdown",
   "metadata": {},
   "source": [
    "Silhueta Simplificada\n",
    "\n",
    "```\n",
    "Para cada objeto i:\n",
    "    Encontre o cluster ao qual i pertence\n",
    "    Calcule a distância média intra-cluster (a_i):\n",
    "        - Calcule a média das distâncias de i para todos os outros objetos no mesmo cluster\n",
    "    Calcule a distância média mais próxima inter-cluster (b_i):\n",
    "        - Para cada cluster diferente do cluster de i:\n",
    "            - Calcule a média das distâncias de i para todos os objetos no cluster\n",
    "            - Mantenha o mínimo dessas distâncias\n",
    "    Calcule o valor da silhueta simplificada para o objeto i:\n",
    "        - (b_i - a_i) / max(a_i, b_i) se o tamanho do cluster de i for maior que 1, caso contrário, 0\n",
    "```"
   ]
  },
  {
   "cell_type": "code",
   "execution_count": 5,
   "metadata": {},
   "outputs": [],
   "source": [
    "def simplified_silhouette(X, labels):\n",
    "    n = X.shape[0]\n",
    "    sil_scores = np.zeros(n)\n",
    "\n",
    "    for i in range(n):\n",
    "        # encontra o cluster ao qual i pertence\n",
    "        own_cluster = labels[i]\n",
    "\n",
    "        # a_i: distancia media intra-cluster,\n",
    "        # media das distancias de i para todos os outros objs no mesmo cluster\n",
    "        a_i = np.mean(np.linalg.norm(X[i] - X[labels == own_cluster], axis=1))\n",
    "\n",
    "        # b_i: distancia media mais proxima inter-cluster,\n",
    "        b_i = np.inf\n",
    "        for label in np.unique(labels):\n",
    "            if label == own_cluster:\n",
    "                continue\n",
    "            # para cada cluster diferente de i\n",
    "            # 1. calcula a media das distancias de i para todos objetos no cluster\n",
    "            # 2. calcula o minimo dessas distancias\n",
    "            b_i = min(b_i, np.mean(np.linalg.norm(X[i] - X[labels == label], axis=1)))\n",
    "\n",
    "        # calcula o valor da silhueta simplificada para i,\n",
    "        # se o tamanho do cluster de i for maior que 1, caso contrario 0\n",
    "        sil_scores[i] = (\n",
    "            (b_i - a_i) / max(a_i, b_i) if np.sum(labels == own_cluster) > 1 else 0\n",
    "        )\n",
    "\n",
    "    return np.mean(sil_scores)"
   ]
  },
  {
   "cell_type": "markdown",
   "metadata": {},
   "source": [
    "Validação dos algoritmos"
   ]
  },
  {
   "cell_type": "code",
   "execution_count": 6,
   "metadata": {},
   "outputs": [
    {
     "name": "stdout",
     "output_type": "stream",
     "text": [
      "=== K-Means ===\n",
      "k\t\t 3\n",
      "Dataset\t\t ./iris.csv\n",
      "Dataset shape\t (150, 4)\n",
      "Silhouette Score 0.5471543677226165\n"
     ]
    }
   ],
   "source": [
    "model = K_Means(k=k)\n",
    "kmeans_labels, kmeans_centroids = model.fit_predict(X.to_numpy())\n",
    "kmeans_sil = simplified_silhouette(X.to_numpy(), kmeans_labels)\n",
    "\n",
    "print(\"=== K-Means ===\")\n",
    "print(\"k\\t\\t\", k)\n",
    "print(\"Dataset\\t\\t\", dataset_path)\n",
    "print(\"Dataset shape\\t\", X.shape)\n",
    "print(\"Silhouette Score\", kmeans_sil)"
   ]
  },
  {
   "cell_type": "code",
   "execution_count": 7,
   "metadata": {},
   "outputs": [
    {
     "name": "stdout",
     "output_type": "stream",
     "text": [
      "=== AHC ===\n",
      "k\t\t 3\n",
      "Dataset\t\t ./iris.csv\n",
      "Dataset shape\t (150, 4)\n",
      "Silhouette Score 0.517766369208731\n"
     ]
    }
   ],
   "source": [
    "ahc = AHC(X, k=k)\n",
    "ahc.run()\n",
    "ahc_sil = simplified_silhouette(X.to_numpy(), ahc.labels)\n",
    "\n",
    "print(\"=== AHC ===\")\n",
    "print(\"k\\t\\t\", k)\n",
    "print(\"Dataset\\t\\t\", dataset_path)\n",
    "print(\"Dataset shape\\t\", X.shape)\n",
    "print(\"Silhouette Score\", ahc_sil)"
   ]
  },
  {
   "cell_type": "code",
   "execution_count": null,
   "metadata": {},
   "outputs": [],
   "source": []
  }
 ],
 "metadata": {
  "kernelspec": {
   "display_name": ".venv",
   "language": "python",
   "name": "python3"
  },
  "language_info": {
   "codemirror_mode": {
    "name": "ipython",
    "version": 3
   },
   "file_extension": ".py",
   "mimetype": "text/x-python",
   "name": "python",
   "nbconvert_exporter": "python",
   "pygments_lexer": "ipython3",
   "version": "3.12.3"
  }
 },
 "nbformat": 4,
 "nbformat_minor": 2
}
