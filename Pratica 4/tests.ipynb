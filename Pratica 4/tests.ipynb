{
 "cells": [
  {
   "cell_type": "code",
   "execution_count": 14,
   "metadata": {},
   "outputs": [],
   "source": [
    "import math\n",
    "import numpy as np\n",
    "import pandas as pd\n",
    "\n",
    "np.random.seed(17)\n",
    "\n",
    "k = 3\n",
    "idxs = None\n",
    "# idxs = [78, 42, 102]"
   ]
  },
  {
   "cell_type": "code",
   "execution_count": 15,
   "metadata": {},
   "outputs": [
    {
     "data": {
      "text/html": [
       "<div>\n",
       "<style scoped>\n",
       "    .dataframe tbody tr th:only-of-type {\n",
       "        vertical-align: middle;\n",
       "    }\n",
       "\n",
       "    .dataframe tbody tr th {\n",
       "        vertical-align: top;\n",
       "    }\n",
       "\n",
       "    .dataframe thead th {\n",
       "        text-align: right;\n",
       "    }\n",
       "</style>\n",
       "<table border=\"1\" class=\"dataframe\">\n",
       "  <thead>\n",
       "    <tr style=\"text-align: right;\">\n",
       "      <th></th>\n",
       "      <th>sepal_length</th>\n",
       "      <th>sepal_width</th>\n",
       "      <th>petal_length</th>\n",
       "      <th>petal_width</th>\n",
       "      <th>class</th>\n",
       "    </tr>\n",
       "  </thead>\n",
       "  <tbody>\n",
       "    <tr>\n",
       "      <th>0</th>\n",
       "      <td>5.1</td>\n",
       "      <td>3.5</td>\n",
       "      <td>1.4</td>\n",
       "      <td>0.2</td>\n",
       "      <td>Iris-setosa</td>\n",
       "    </tr>\n",
       "    <tr>\n",
       "      <th>1</th>\n",
       "      <td>4.9</td>\n",
       "      <td>3.0</td>\n",
       "      <td>1.4</td>\n",
       "      <td>0.2</td>\n",
       "      <td>Iris-setosa</td>\n",
       "    </tr>\n",
       "    <tr>\n",
       "      <th>2</th>\n",
       "      <td>4.7</td>\n",
       "      <td>3.2</td>\n",
       "      <td>1.3</td>\n",
       "      <td>0.2</td>\n",
       "      <td>Iris-setosa</td>\n",
       "    </tr>\n",
       "    <tr>\n",
       "      <th>3</th>\n",
       "      <td>4.6</td>\n",
       "      <td>3.1</td>\n",
       "      <td>1.5</td>\n",
       "      <td>0.2</td>\n",
       "      <td>Iris-setosa</td>\n",
       "    </tr>\n",
       "    <tr>\n",
       "      <th>4</th>\n",
       "      <td>5.0</td>\n",
       "      <td>3.6</td>\n",
       "      <td>1.4</td>\n",
       "      <td>0.2</td>\n",
       "      <td>Iris-setosa</td>\n",
       "    </tr>\n",
       "  </tbody>\n",
       "</table>\n",
       "</div>"
      ],
      "text/plain": [
       "   sepal_length  sepal_width  petal_length  petal_width        class\n",
       "0           5.1          3.5           1.4          0.2  Iris-setosa\n",
       "1           4.9          3.0           1.4          0.2  Iris-setosa\n",
       "2           4.7          3.2           1.3          0.2  Iris-setosa\n",
       "3           4.6          3.1           1.5          0.2  Iris-setosa\n",
       "4           5.0          3.6           1.4          0.2  Iris-setosa"
      ]
     },
     "execution_count": 15,
     "metadata": {},
     "output_type": "execute_result"
    }
   ],
   "source": [
    "data = pd.read_csv(\"./iris.csv\")\n",
    "data.head()"
   ]
  },
  {
   "cell_type": "code",
   "execution_count": 16,
   "metadata": {},
   "outputs": [
    {
     "data": {
      "text/plain": [
       "array([[5.1, 3.5, 1.4, 0.2],\n",
       "       [4.9, 3. , 1.4, 0.2],\n",
       "       [4.7, 3.2, 1.3, 0.2],\n",
       "       [4.6, 3.1, 1.5, 0.2],\n",
       "       [5. , 3.6, 1.4, 0.2]])"
      ]
     },
     "execution_count": 16,
     "metadata": {},
     "output_type": "execute_result"
    }
   ],
   "source": [
    "X = data.iloc[:, :4].values\n",
    "# y = data.iloc[:, 4].values\n",
    "X[:5]"
   ]
  },
  {
   "cell_type": "markdown",
   "metadata": {},
   "source": [
    "### KMeans - Marcio"
   ]
  },
  {
   "cell_type": "code",
   "execution_count": 17,
   "metadata": {},
   "outputs": [
    {
     "name": "stdout",
     "output_type": "stream",
     "text": [
      "Gerando Indices aleatorios...\n",
      "Initial centroids [ 16  78 145]:\n",
      "[[5.4 3.9 1.3 0.4]\n",
      " [6.  2.9 4.5 1.5]\n",
      " [6.7 3.  5.2 2.3]]\n"
     ]
    }
   ],
   "source": [
    "class MarcioKMeans:\n",
    "    def __init__(self, k=2, tolerance=0.001, max_iter=100):\n",
    "        self.k = k\n",
    "        self.max_iterations = max_iter\n",
    "        self.tolerance = tolerance\n",
    "\n",
    "    def euclidean_distance(self, point1, point2):\n",
    "        return math.sqrt((point1[0] - point2[0]) ** 2 + (point1[1] - point2[1]) ** 2)\n",
    "\n",
    "    def predict(self, point):\n",
    "        \"\"\"\n",
    "            É realizado o calculo das distâncias entre um determinado ponto\n",
    "            e cada um dos centróides definidos pelo agrupamento. O cluster que\n",
    "            resultar na menor distância sera o resultado da predição\n",
    "\n",
    "            obs: A função np.linalg.norm() retorna a distância euclidiana,\n",
    "                 o uso desta função é mais eficiente para este calculo\n",
    "        \"\"\"\n",
    "        distances = [np.linalg.norm(point - self.centroids[centroid]) for centroid in self.centroids]\n",
    "        classification = distances.index(min(distances))\n",
    "        return classification\n",
    "\n",
    "    def fit(self, data, idxs=None):\n",
    "        \"\"\"\n",
    "            A inicialização dos centróides é feita de maneira simples:\n",
    "            * São escolhidos K centróides aleatoriamente do dataset.\n",
    "        \"\"\"\n",
    "        if idxs is None:\n",
    "            print(\"Gerando Indices aleatorios...\")\n",
    "            idxs = np.random.choice(len(data), self.k, replace=False)\n",
    "\n",
    "        self.centroids = {i: data[idx] for i, idx in enumerate(idxs)}\n",
    "        print(f\"Initial centroids {idxs}:\")\n",
    "        print(np.array(list(self.centroids.values())))\n",
    "\n",
    "        for i in range(self.max_iterations):\n",
    "            self.classes = {j: [] for j in range(self.k)}  # Inicialização do dicionário de classes\n",
    "\n",
    "            '''  \n",
    "                Sera computada as distancias euclidianas de um determinado \n",
    "                ponto i com todos os centróides definidos. Após o preenchimento\n",
    "                da lista de distâncias, será definido o cluster_index, que \n",
    "                representa o índice do cluster que obteve a menor distância \n",
    "                euclidiana com o ponto (O mesmo cluster_index também será \n",
    "                utilizado como index da 'classe' para definir para qual cluster\n",
    "                o ponto será alocado).  \n",
    "\n",
    "                Obs: O mesmo processo será repetido para todos os pontos do dataset\n",
    "\n",
    "            '''\n",
    "            for point in data:\n",
    "                distances = []\n",
    "                for index in self.centroids:\n",
    "                    distances.append(self.euclidean_distance(point, self.centroids[index]))\n",
    "                cluster_index = distances.index(min(distances))\n",
    "                self.classes[cluster_index].append(point)\n",
    "            \n",
    "            '''  \n",
    "                Previous é um dicionário python com base nos centróides, que \n",
    "                armazena os valores prévios dos centróides definidos\n",
    "            '''\n",
    "            previous = self.centroids\n",
    "\n",
    "            ''' \n",
    "                Para cada índice de cluster dentro do dicionário de classes\n",
    "                é calculado um novo valor de centróide, levando em consideraço a média \n",
    "                dos valores dos pontos que foram alocados do dicionário 'classes' no \n",
    "                trecho de código anterior: self.classes[cluster_index].append(point)\n",
    "\n",
    "                obs: A flag is_optimal é definida como True\n",
    "            '''\n",
    "            for cluster_index in self.classes:\n",
    "                self.centroids[cluster_index] = np.average(self.classes[cluster_index], axis=0)\n",
    "            is_optimal = True\n",
    "\n",
    "            '''  \n",
    "                Para cada centroid definido, será avaliada o qual foi a variação\n",
    "                de valor do novo centróide calculado. Se a porcentagem da varição\n",
    "                for superior à tolerância estabelecida previamente, o loop de execução\n",
    "                continua, caso contrário (is_optimal is True), a execução é encerrada. \n",
    "            '''\n",
    "            for centroid in self.centroids:\n",
    "                original_centroid = previous[centroid]\n",
    "                curr = self.centroids[centroid]\n",
    "                if np.sum((curr - original_centroid) / original_centroid * 100.0) > self.tolerance:\n",
    "                    is_optimal = False\n",
    "\n",
    "            if is_optimal:\n",
    "                break\n",
    "\n",
    "\n",
    "m_kmeans = MarcioKMeans(k=k)\n",
    "m_kmeans.fit(X, idxs)\n",
    "m_classes = [m_kmeans.predict(x) for x in X]"
   ]
  },
  {
   "cell_type": "code",
   "execution_count": 21,
   "metadata": {},
   "outputs": [],
   "source": [
    "### KMeans - Andrey"
   ]
  },
  {
   "cell_type": "code",
   "execution_count": 22,
   "metadata": {},
   "outputs": [
    {
     "name": "stdout",
     "output_type": "stream",
     "text": [
      "Initial centroids [121  26  96]:\n",
      "[[5.6 2.8 4.9 2. ]\n",
      " [5.  3.4 1.6 0.4]\n",
      " [5.7 2.9 4.2 1.3]]\n"
     ]
    }
   ],
   "source": [
    "def a_kmeans(X: np.ndarray, k: int, idxs=None):\n",
    "    if not idxs:\n",
    "        idxs = np.random.choice(X.shape[0], k, replace=False)\n",
    "\n",
    "    centroids = X[idxs]\n",
    "    print(f\"Initial centroids {idxs}:\")\n",
    "    print(centroids)\n",
    "    labels = np.zeros(X.shape[0])\n",
    "\n",
    "    converged = False\n",
    "    while not converged:\n",
    "        # update cluster membership\n",
    "        distances = np.linalg.norm(X[:, None] - centroids, axis=2)\n",
    "        labels = np.argmin(distances, axis=1)  # closest\n",
    "\n",
    "        # update centroids\n",
    "        new_centroids = np.array([np.mean(X[labels == i], axis=0) for i in range(k)])\n",
    "\n",
    "        if np.all(centroids == new_centroids):\n",
    "            converged = True\n",
    "\n",
    "        centroids = new_centroids.copy()\n",
    "\n",
    "    return labels, centroids\n",
    "\n",
    "a_classes, a_classes = a_kmeans(X, k, idxs)"
   ]
  },
  {
   "cell_type": "code",
   "execution_count": 23,
   "metadata": {},
   "outputs": [],
   "source": [
    "output = data.copy()\n",
    "output[\"marcio\"] = m_classes\n",
    "output[\"andrey\"] = m_classes\n",
    "output.to_csv(\"result.csv\")"
   ]
  },
  {
   "cell_type": "code",
   "execution_count": null,
   "metadata": {},
   "outputs": [],
   "source": []
  }
 ],
 "metadata": {
  "kernelspec": {
   "display_name": ".venv",
   "language": "python",
   "name": "python3"
  },
  "language_info": {
   "codemirror_mode": {
    "name": "ipython",
    "version": 3
   },
   "file_extension": ".py",
   "mimetype": "text/x-python",
   "name": "python",
   "nbconvert_exporter": "python",
   "pygments_lexer": "ipython3",
   "version": "3.12.3"
  }
 },
 "nbformat": 4,
 "nbformat_minor": 2
}
