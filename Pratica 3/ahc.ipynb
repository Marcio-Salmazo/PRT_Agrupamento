{
 "cells": [
  {
   "cell_type": "code",
   "execution_count": 2,
   "metadata": {},
   "outputs": [
    {
     "name": "stdout",
     "output_type": "stream",
     "text": [
      "Requirement already satisfied: pandas in c:\\users\\pedro victor\\git-projects\\prt_agrupamento\\venv\\lib\\site-packages (2.2.2)\n",
      "Requirement already satisfied: numpy>=1.22.4 in c:\\users\\pedro victor\\git-projects\\prt_agrupamento\\venv\\lib\\site-packages (from pandas) (1.26.4)\n",
      "Requirement already satisfied: python-dateutil>=2.8.2 in c:\\users\\pedro victor\\git-projects\\prt_agrupamento\\venv\\lib\\site-packages (from pandas) (2.9.0.post0)\n",
      "Requirement already satisfied: tzdata>=2022.7 in c:\\users\\pedro victor\\git-projects\\prt_agrupamento\\venv\\lib\\site-packages (from pandas) (2024.1)\n",
      "Requirement already satisfied: pytz>=2020.1 in c:\\users\\pedro victor\\git-projects\\prt_agrupamento\\venv\\lib\\site-packages (from pandas) (2024.1)\n",
      "Requirement already satisfied: six>=1.5 in c:\\users\\pedro victor\\git-projects\\prt_agrupamento\\venv\\lib\\site-packages (from python-dateutil>=2.8.2->pandas) (1.16.0)\n",
      "Note: you may need to restart the kernel to use updated packages.\n",
      "The autoreload extension is already loaded. To reload it, use:\n",
      "  %reload_ext autoreload\n"
     ]
    },
    {
     "name": "stderr",
     "output_type": "stream",
     "text": [
      "WARNING: You are using pip version 21.3.1; however, version 24.0 is available.\n",
      "You should consider upgrading via the 'c:\\Users\\Pedro Victor\\git-projects\\PRT_Agrupamento\\venv\\Scripts\\python.exe -m pip install --upgrade pip' command.\n"
     ]
    }
   ],
   "source": [
    "%pip install pandas\n",
    "%load_ext autoreload\n",
    "%autoreload 2"
   ]
  },
  {
   "cell_type": "code",
   "execution_count": 8,
   "metadata": {},
   "outputs": [],
   "source": [
    "import pandas as pd\n",
    "import math\n"
   ]
  },
  {
   "cell_type": "markdown",
   "metadata": {},
   "source": [
    "Carregando dataset Iris: https://archive.ics.uci.edu/dataset/53/iris já removendo a coluna de classe"
   ]
  },
  {
   "cell_type": "code",
   "execution_count": 6,
   "metadata": {},
   "outputs": [
    {
     "data": {
      "text/html": [
       "<div>\n",
       "<style scoped>\n",
       "    .dataframe tbody tr th:only-of-type {\n",
       "        vertical-align: middle;\n",
       "    }\n",
       "\n",
       "    .dataframe tbody tr th {\n",
       "        vertical-align: top;\n",
       "    }\n",
       "\n",
       "    .dataframe thead th {\n",
       "        text-align: right;\n",
       "    }\n",
       "</style>\n",
       "<table border=\"1\" class=\"dataframe\">\n",
       "  <thead>\n",
       "    <tr style=\"text-align: right;\">\n",
       "      <th></th>\n",
       "      <th>sepal_length</th>\n",
       "      <th>sepal_width</th>\n",
       "      <th>petal_length</th>\n",
       "      <th>petal_width</th>\n",
       "    </tr>\n",
       "  </thead>\n",
       "  <tbody>\n",
       "    <tr>\n",
       "      <th>0</th>\n",
       "      <td>5.1</td>\n",
       "      <td>3.5</td>\n",
       "      <td>1.4</td>\n",
       "      <td>0.2</td>\n",
       "    </tr>\n",
       "    <tr>\n",
       "      <th>1</th>\n",
       "      <td>4.9</td>\n",
       "      <td>3.0</td>\n",
       "      <td>1.4</td>\n",
       "      <td>0.2</td>\n",
       "    </tr>\n",
       "    <tr>\n",
       "      <th>2</th>\n",
       "      <td>4.7</td>\n",
       "      <td>3.2</td>\n",
       "      <td>1.3</td>\n",
       "      <td>0.2</td>\n",
       "    </tr>\n",
       "    <tr>\n",
       "      <th>3</th>\n",
       "      <td>4.6</td>\n",
       "      <td>3.1</td>\n",
       "      <td>1.5</td>\n",
       "      <td>0.2</td>\n",
       "    </tr>\n",
       "    <tr>\n",
       "      <th>4</th>\n",
       "      <td>5.0</td>\n",
       "      <td>3.6</td>\n",
       "      <td>1.4</td>\n",
       "      <td>0.2</td>\n",
       "    </tr>\n",
       "  </tbody>\n",
       "</table>\n",
       "</div>"
      ],
      "text/plain": [
       "   sepal_length  sepal_width  petal_length  petal_width\n",
       "0           5.1          3.5           1.4          0.2\n",
       "1           4.9          3.0           1.4          0.2\n",
       "2           4.7          3.2           1.3          0.2\n",
       "3           4.6          3.1           1.5          0.2\n",
       "4           5.0          3.6           1.4          0.2"
      ]
     },
     "execution_count": 6,
     "metadata": {},
     "output_type": "execute_result"
    }
   ],
   "source": [
    "data_set = pd.read_csv(\"iris.csv\")\n",
    "data_set.drop(\"class\", axis=1, inplace=True)\n",
    "data_set.head()"
   ]
  },
  {
   "cell_type": "markdown",
   "metadata": {},
   "source": [
    "Função para cálculo da distância euclidiana entre os pontos X e Y, a função também recebe com parâmetro uma lista de atributos dos objetos"
   ]
  },
  {
   "cell_type": "code",
   "execution_count": 9,
   "metadata": {},
   "outputs": [],
   "source": [
    "def euclidean_dist(x, y, attrs):\n",
    "    acc = 0\n",
    "    for attr in attrs:\n",
    "        acc += math.pow(x[attr] - y[attr], 2)\n",
    "\n",
    "    return math.sqrt(acc)"
   ]
  },
  {
   "cell_type": "markdown",
   "metadata": {},
   "source": [
    "Definição da classe AHC, que implementa o algoritmo de agrupamento aglomerativo hierárquico"
   ]
  },
  {
   "cell_type": "code",
   "execution_count": 15,
   "metadata": {},
   "outputs": [],
   "source": [
    "class AHC:\n",
    "    # Método de inicialização do AHC:\n",
    "    #     k - Quantidade desejada de clusters\n",
    "    #     data - O dataframe pandas dos dados de entrada\n",
    "    #     dist_matrix - Matriz de distância do data set\n",
    "    #     clusters - Lista que controla os clusters durante a execução do algoritmo\n",
    "    def __init__(self, data, k=1):\n",
    "        self.k = k\n",
    "        self.size = len(data)\n",
    "        self.data = data\n",
    "        self.dist_matrix = self.calc_dist_matrix(data)\n",
    "        self.clusters = self.init_clusters()\n",
    "        self.output = open(\"output.txt\", \"w\")\n",
    "\n",
    "\n",
    "    # Método para o cálculo da matriz de distâncias\n",
    "    def calc_dist_matrix(self, data):\n",
    "        dist_matrix = [[0] * self.size for x in range(self.size)]\n",
    "\n",
    "        for i in range(self.size):\n",
    "            for j in range(self.size):\n",
    "                dist_matrix[i][j] = euclidean_dist(data.loc[i], data.loc[j], data.columns.values)\n",
    "\n",
    "        return dist_matrix\n",
    "\n",
    "    # Método para inicialização do algoritmo, como a estratégia é aglomerativa, inicialmente serão X clusters onde X é o tamanho da base de dados\n",
    "    def init_clusters(self):\n",
    "        clusters = []\n",
    "\n",
    "        for i in range(self.size):\n",
    "            clusters.append([i])\n",
    "\n",
    "        return clusters\n",
    "\n",
    "    # Método que encontra o single link, ou seja, a menor distância entre clusters\n",
    "    def find_single_link(self):\n",
    "        min_dist = float('inf')\n",
    "        clusters_to_merge = []\n",
    "\n",
    "        for i in range(self.size):\n",
    "            for j in range(i + 1, self.size):\n",
    "                if self.dist_matrix[i][j] <= min_dist and i != j:\n",
    "                    min_dist = self.dist_matrix[i][j]\n",
    "                    clusters_to_merge = [i, j]\n",
    "\n",
    "        return clusters_to_merge\n",
    "\n",
    "    # Método que aglomera dois clusters em um resultante\n",
    "    def merge_clusters(self, i, j):\n",
    "        merge = self.clusters[i] + self.clusters[j]\n",
    "        self.clusters[i] = merge\n",
    "        self.clusters[j] = merge\n",
    "        del self.clusters[j]\n",
    "\n",
    "    # Método para atualização da matriz de distâncias após dois clusters aglomerados\n",
    "    def update_dist_matrix(self, i, j):\n",
    "        i_dist = self.dist_matrix[i]\n",
    "        j_dist = self.dist_matrix[j]\n",
    "        merge_dist = []\n",
    "\n",
    "        # Este laço seleciona a menor distância entre os pontos que farão parte do novo cluster em relação aos pontos restantes no conjunto de dados\n",
    "        for k in range(self.size):\n",
    "            merge_dist_min = i_dist[k] if i_dist[k] < j_dist[k] else j_dist[k]\n",
    "            merge_dist.append(merge_dist_min)\n",
    "\n",
    "        self.dist_matrix[i] = merge_dist\n",
    "        del self.dist_matrix[j]\n",
    "\n",
    "        # Este laço atualiza as distâncias do novo cluster em relação aos pontos restantes no conjunto de dados\n",
    "        for k in range(self.size - 1):\n",
    "            k_dist = self.dist_matrix[k]\n",
    "            new_min = k_dist[i] if k_dist[i] < merge_dist[k] else merge_dist[k]\n",
    "            self.dist_matrix[k][i] = new_min\n",
    "            del self.dist_matrix[k][j]\n",
    "\n",
    "        self.size = len(self.dist_matrix)\n",
    "\n",
    "    # Método auxiliar para imprimir os clusters em cada nível no arquivo de saída\n",
    "    def print_clusters(self):\n",
    "        for cluster in self.clusters:\n",
    "            self.output.write(str(cluster).replace('[', '{').replace(']', '}') + \", \")\n",
    "        self.output.write('\\n')\n",
    "\n",
    "    # Método que executa o algoritmo enquanto a quantidade de clusters for diferente da desejada\n",
    "    def run(self):\n",
    "        while len(self.clusters) != self.k:\n",
    "            self.print_clusters()\n",
    "            clusters_to_merge = self.find_single_link()\n",
    "            self.merge_clusters(clusters_to_merge[0], clusters_to_merge[1])\n",
    "            self.update_dist_matrix(clusters_to_merge[0], clusters_to_merge[1])\n",
    "\n",
    "        self.print_clusters()\n",
    "        self.output.close()"
   ]
  },
  {
   "cell_type": "markdown",
   "metadata": {},
   "source": [
    "Defina o número de clusters desejados, K"
   ]
  },
  {
   "cell_type": "code",
   "execution_count": 11,
   "metadata": {},
   "outputs": [],
   "source": [
    "K = 1 #Modifique este valor"
   ]
  },
  {
   "cell_type": "markdown",
   "metadata": {},
   "source": [
    "Inicialização da classe e execução do algoritmo"
   ]
  },
  {
   "cell_type": "code",
   "execution_count": 16,
   "metadata": {},
   "outputs": [],
   "source": [
    "ahc = AHC(data_set, K)\n",
    "ahc.run()"
   ]
  },
  {
   "cell_type": "markdown",
   "metadata": {},
   "source": [
    "O resultado do algoritmo com os clusters nível a nível pode ser visualizado no arquivo `output.txt`"
   ]
  }
 ],
 "metadata": {
  "kernelspec": {
   "display_name": "venv",
   "language": "python",
   "name": "python3"
  },
  "language_info": {
   "codemirror_mode": {
    "name": "ipython",
    "version": 3
   },
   "file_extension": ".py",
   "mimetype": "text/x-python",
   "name": "python",
   "nbconvert_exporter": "python",
   "pygments_lexer": "ipython3",
   "version": "3.9.13"
  }
 },
 "nbformat": 4,
 "nbformat_minor": 2
}
